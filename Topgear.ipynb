{
  "nbformat": 4,
  "nbformat_minor": 0,
  "metadata": {
    "colab": {
      "name": "Topgear",
      "provenance": [],
      "authorship_tag": "ABX9TyNQa2t8GnGwd1Xmm2sYj/Eh",
      "include_colab_link": true
    },
    "kernelspec": {
      "name": "python3",
      "display_name": "Python 3"
    }
  },
  "cells": [
    {
      "cell_type": "markdown",
      "metadata": {
        "id": "view-in-github",
        "colab_type": "text"
      },
      "source": [
        "<a href=\"https://colab.research.google.com/github/Arjun9747/collab/blob/master/Topgear.ipynb\" target=\"_parent\"><img src=\"https://colab.research.google.com/assets/colab-badge.svg\" alt=\"Open In Colab\"/></a>"
      ]
    },
    {
      "cell_type": "code",
      "metadata": {
        "id": "O5tgIWUV5NPS",
        "colab_type": "code",
        "colab": {
          "base_uri": "https://localhost:8080/",
          "height": 136
        },
        "outputId": "946d5558-30df-4a7b-ebe5-6f200e5fb0df"
      },
      "source": [
        "num1= float(input(\"Enter first number:\"))\n",
        "num2 = float(input(\"Enter second number:\"))\n",
        "\n",
        "print(num1+num2)\n",
        "\n",
        "add = num1+num2\n",
        "multi = num1* num2\n",
        "sub= num1- num2\n",
        "div= num1/num2\n",
        "\n",
        "print(\"Multiplication\",multi)\n",
        "\n",
        "print(\"Addition\" ,add)\n",
        "print(\"Subtraction\" ,sub)\n",
        "print(\"Divison\" ,div)"
      ],
      "execution_count": 19,
      "outputs": [
        {
          "output_type": "stream",
          "text": [
            "Enter first number:4\n",
            "Enter second number:2\n",
            "6.0\n",
            "Multiplication 8.0\n",
            "Addition 6.0\n",
            "Subtraction 2.0\n",
            "Divison 2.0\n"
          ],
          "name": "stdout"
        }
      ]
    },
    {
      "cell_type": "code",
      "metadata": {
        "id": "bNS-8AJoNSjr",
        "colab_type": "code",
        "colab": {
          "base_uri": "https://localhost:8080/",
          "height": 85
        },
        "outputId": "3998249f-5661-469f-92ce-d291481ef918"
      },
      "source": [
        "a = int(input(\"Enter a value for A:\"))\n",
        "b = int(input(\"Enter a value for B:\"))\n",
        "c = int(input(\"Enter a value for C:\"))\n",
        "\n",
        "if a > b and a > c:\n",
        "  print(\"A is biggest number\")\n",
        "elif b > a and b > c:\n",
        "  print(\"B is the biggest number\")\n",
        "elif c> a and c> b:\n",
        "  print(\"C is the biggest number\")"
      ],
      "execution_count": 22,
      "outputs": [
        {
          "output_type": "stream",
          "text": [
            "Enter a value for A:34\n",
            "Enter a value for B:543\n",
            "Enter a value for C:2\n",
            "B is the biggest number\n"
          ],
          "name": "stdout"
        }
      ]
    },
    {
      "cell_type": "code",
      "metadata": {
        "id": "1W7HlnKPOPJi",
        "colab_type": "code",
        "colab": {
          "base_uri": "https://localhost:8080/",
          "height": 51
        },
        "outputId": "a5f130c3-a106-45e8-f333-9c6fd3ae59c7"
      },
      "source": [
        "a= int(input(\"Enter a value for A:\"))\n",
        "\n",
        "if a%2 ==0:\n",
        "  print(\"Value is Even!\")\n",
        "else:\n",
        "  print(\"Value is Odd!\")"
      ],
      "execution_count": 24,
      "outputs": [
        {
          "output_type": "stream",
          "text": [
            "Enter a value for A:22\n",
            "Value is Even!\n"
          ],
          "name": "stdout"
        }
      ]
    },
    {
      "cell_type": "code",
      "metadata": {
        "id": "hM7Lt7xiO9DG",
        "colab_type": "code",
        "colab": {
          "base_uri": "https://localhost:8080/",
          "height": 51
        },
        "outputId": "c0ed99b6-4694-49ec-d4ae-ce023d6eef00"
      },
      "source": [
        "num = int(input(\"Enter your value\"))\n",
        "\n",
        "if num >1:\n",
        "  for i in range(2,num):\n",
        "    if num% i ==0:\n",
        "      print(num,\"is Not Prime Number\")\n",
        "      break\n",
        "  else:\n",
        "    print(num,\"is a prime Number\")\n"
      ],
      "execution_count": 37,
      "outputs": [
        {
          "output_type": "stream",
          "text": [
            "Enter your value7\n",
            "7 is a prime Number\n"
          ],
          "name": "stdout"
        }
      ]
    },
    {
      "cell_type": "code",
      "metadata": {
        "id": "UXnIsK0XTAF2",
        "colab_type": "code",
        "colab": {
          "base_uri": "https://localhost:8080/",
          "height": 119
        },
        "outputId": "992eec55-57b0-460d-dabb-baf493ec9eb6"
      },
      "source": [
        "string= input(\"Enter your string:\")\n",
        "\n",
        "for i in string:\n",
        "  print(i)\n"
      ],
      "execution_count": 38,
      "outputs": [
        {
          "output_type": "stream",
          "text": [
            "Enter your string:Arjun\n",
            "A\n",
            "r\n",
            "j\n",
            "u\n",
            "n\n"
          ],
          "name": "stdout"
        }
      ]
    },
    {
      "cell_type": "code",
      "metadata": {
        "id": "BiiXcHlEahFn",
        "colab_type": "code",
        "colab": {
          "base_uri": "https://localhost:8080/",
          "height": 51
        },
        "outputId": "19682239-1c71-405f-fd22-b5d9ee4f5754"
      },
      "source": [
        "string= input(\"Enter your string value: \")\n",
        "\n",
        "print(string[4:])"
      ],
      "execution_count": 40,
      "outputs": [
        {
          "output_type": "stream",
          "text": [
            "Enter your string value: television\n",
            "vision\n"
          ],
          "name": "stdout"
        }
      ]
    },
    {
      "cell_type": "code",
      "metadata": {
        "id": "LCoIJBWsbqgk",
        "colab_type": "code",
        "colab": {
          "base_uri": "https://localhost:8080/",
          "height": 1000
        },
        "outputId": "0dbdae20-a841-4f7e-fe9f-a17d56804c51"
      },
      "source": [
        "string= input(\"Enter your string value: \")\n",
        "\n",
        "for i in range(101):\n",
        "  print(string)"
      ],
      "execution_count": 41,
      "outputs": [
        {
          "output_type": "stream",
          "text": [
            "Enter your string value: hello\n",
            "hello\n",
            "hello\n",
            "hello\n",
            "hello\n",
            "hello\n",
            "hello\n",
            "hello\n",
            "hello\n",
            "hello\n",
            "hello\n",
            "hello\n",
            "hello\n",
            "hello\n",
            "hello\n",
            "hello\n",
            "hello\n",
            "hello\n",
            "hello\n",
            "hello\n",
            "hello\n",
            "hello\n",
            "hello\n",
            "hello\n",
            "hello\n",
            "hello\n",
            "hello\n",
            "hello\n",
            "hello\n",
            "hello\n",
            "hello\n",
            "hello\n",
            "hello\n",
            "hello\n",
            "hello\n",
            "hello\n",
            "hello\n",
            "hello\n",
            "hello\n",
            "hello\n",
            "hello\n",
            "hello\n",
            "hello\n",
            "hello\n",
            "hello\n",
            "hello\n",
            "hello\n",
            "hello\n",
            "hello\n",
            "hello\n",
            "hello\n",
            "hello\n",
            "hello\n",
            "hello\n",
            "hello\n",
            "hello\n",
            "hello\n",
            "hello\n",
            "hello\n",
            "hello\n",
            "hello\n",
            "hello\n",
            "hello\n",
            "hello\n",
            "hello\n",
            "hello\n",
            "hello\n",
            "hello\n",
            "hello\n",
            "hello\n",
            "hello\n",
            "hello\n",
            "hello\n",
            "hello\n",
            "hello\n",
            "hello\n",
            "hello\n",
            "hello\n",
            "hello\n",
            "hello\n",
            "hello\n",
            "hello\n",
            "hello\n",
            "hello\n",
            "hello\n",
            "hello\n",
            "hello\n",
            "hello\n",
            "hello\n",
            "hello\n",
            "hello\n",
            "hello\n",
            "hello\n",
            "hello\n",
            "hello\n",
            "hello\n",
            "hello\n",
            "hello\n",
            "hello\n",
            "hello\n",
            "hello\n",
            "hello\n"
          ],
          "name": "stdout"
        }
      ]
    },
    {
      "cell_type": "code",
      "metadata": {
        "id": "dLfi3gI8crQ_",
        "colab_type": "code",
        "colab": {
          "base_uri": "https://localhost:8080/",
          "height": 68
        },
        "outputId": "e9eb8a61-10e1-43ed-d21c-3901b898ddaa"
      },
      "source": [
        "string1= input(\"Enter the first string: \")\n",
        "string2= input(\"Enter the second string: \")\n",
        "\n",
        "print(string1 + \" \" +string2)"
      ],
      "execution_count": 44,
      "outputs": [
        {
          "output_type": "stream",
          "text": [
            "Enter the first string: Hello\n",
            "Enter the second string: Arjun\n",
            "Hello Arjun\n"
          ],
          "name": "stdout"
        }
      ]
    },
    {
      "cell_type": "code",
      "metadata": {
        "id": "cuGSehSedJ7-",
        "colab_type": "code",
        "colab": {
          "base_uri": "https://localhost:8080/",
          "height": 85
        },
        "outputId": "f37b641e-d27f-4a81-c4b0-6c49eea147df"
      },
      "source": [
        "list1= [34,32,23,11,90,4,12,55,77]\n",
        "\n",
        "list2=['Arjun']* 4\n",
        "print(list2)\n",
        "\n",
        "print(list1)\n",
        "print(list1[1:4])\n",
        "\n",
        "print(list1+list2)"
      ],
      "execution_count": 50,
      "outputs": [
        {
          "output_type": "stream",
          "text": [
            "['Arjun', 'Arjun', 'Arjun', 'Arjun']\n",
            "[34, 32, 23, 11, 90, 4, 12, 55, 77]\n",
            "[32, 23, 11]\n",
            "[34, 32, 23, 11, 90, 4, 12, 55, 77, 'Arjun', 'Arjun', 'Arjun', 'Arjun']\n"
          ],
          "name": "stdout"
        }
      ]
    },
    {
      "cell_type": "code",
      "metadata": {
        "id": "d7vC5jxfgQKi",
        "colab_type": "code",
        "colab": {
          "base_uri": "https://localhost:8080/",
          "height": 85
        },
        "outputId": "ef21b603-e6b7-44d4-c298-d12a987252ca"
      },
      "source": [
        "tup1= ('Python','Java','Ruby','C#','Cobol','Perl')\n",
        "print(tup1)\n",
        "print(tup1[1:5])\n",
        "tup2=(\"arjun\",)*3\n",
        "print(tup2)\n",
        "print(tup1+tup2)\n"
      ],
      "execution_count": 60,
      "outputs": [
        {
          "output_type": "stream",
          "text": [
            "('Python', 'Java', 'Ruby', 'C#', 'Cobol', 'Perl')\n",
            "('Java', 'Ruby', 'C#', 'Cobol')\n",
            "('arjun', 'arjun', 'arjun')\n",
            "('Python', 'Java', 'Ruby', 'C#', 'Cobol', 'Perl', 'arjun', 'arjun', 'arjun')\n"
          ],
          "name": "stdout"
        }
      ]
    },
    {
      "cell_type": "code",
      "metadata": {
        "id": "G_eF_cgltQ3p",
        "colab_type": "code",
        "colab": {
          "base_uri": "https://localhost:8080/",
          "height": 85
        },
        "outputId": "cc2180e0-14fe-4ff3-b61e-ee7e60b67dcf"
      },
      "source": [
        "com1= 9 + 3j\n",
        "com2=3 + 4j\n",
        "\n",
        "com_add= com1+com2\n",
        "print(\"Addition\", com_add)\n",
        "\n",
        "com_sub= com1 - com2\n",
        "print(\"Substraction\", com_sub)\n",
        "\n",
        "com_mult = com1 * com2\n",
        "print(\"Multiplication\", com_mult)\n",
        "\n",
        "com_div = com1/ com2\n",
        "print(\"Division\", com_div)"
      ],
      "execution_count": 10,
      "outputs": [
        {
          "output_type": "stream",
          "text": [
            "Addition (12+7j)\n",
            "Substraction (6-1j)\n",
            "Multiplication (15+45j)\n",
            "Division (1.56-1.08j)\n"
          ],
          "name": "stdout"
        }
      ]
    },
    {
      "cell_type": "code",
      "metadata": {
        "id": "TuovooO9zaNW",
        "colab_type": "code",
        "colab": {
          "base_uri": "https://localhost:8080/",
          "height": 119
        },
        "outputId": "32b9f128-fba4-4422-bc6d-6704bfd3038a"
      },
      "source": [
        "a= 100\n",
        "a+=10\n",
        "print(\"Value of A after additon\", a)\n",
        "\n",
        "b = 100\n",
        "b-=10\n",
        "print(\"Value of B after Substraction\", b)\n",
        "\n",
        "c = 100\n",
        "c*=2\n",
        "print(\"Value of C after multiplication\", c)\n",
        "\n",
        "d = 100\n",
        "d/=5\n",
        "print(\"Value of D after divison\",d)\n",
        "\n",
        "e= 100\n",
        "e %=3\n",
        "print(\"Value of E after Modulus\", e)\n",
        "\n",
        "f = 10\n",
        "f**=5\n",
        "print(\"Value of F after exponent operation\",f)\n",
        "\n"
      ],
      "execution_count": 17,
      "outputs": [
        {
          "output_type": "stream",
          "text": [
            "Value of A after additon 110\n",
            "Value of B after Substraction 90\n",
            "Value of C after multiplication 200\n",
            "Value of D after divison 20.0\n",
            "Value of E after Modulus 1\n",
            "Value of F after exponent operation 100000\n"
          ],
          "name": "stdout"
        }
      ]
    },
    {
      "cell_type": "code",
      "metadata": {
        "id": "KTV4av051p01",
        "colab_type": "code",
        "colab": {
          "base_uri": "https://localhost:8080/",
          "height": 119
        },
        "outputId": "7706e52f-d87e-4c46-848b-6ba25345bd7d"
      },
      "source": [
        "a= 51\n",
        "b= 18\n",
        "c=0\n",
        "\n",
        "c = a & b\n",
        "print(\"C after AND opeartion\", c)\n",
        "\n",
        "c= a| b\n",
        "print(\"C after OR operation\", c)\n",
        "\n",
        "c=a^b\n",
        "print(\"C after XOR opeartion\", c)\n",
        "\n",
        "c= ~c\n",
        "print(\"C after compliment\", c)\n",
        "\n",
        "c= a <<2\n",
        "print(\"C after binary left shift\", c)\n",
        "\n",
        "c= a >>2\n",
        "print(\"C after binary left shift\", c)\n"
      ],
      "execution_count": 25,
      "outputs": [
        {
          "output_type": "stream",
          "text": [
            "C after AND opeartion 18\n",
            "C after OR operation 51\n",
            "C after XOR opeartion 33\n",
            "C after compliment -34\n",
            "C after binary left shift 204\n",
            "C after binary left shift 12\n"
          ],
          "name": "stdout"
        }
      ]
    },
    {
      "cell_type": "code",
      "metadata": {
        "id": "pk9rJWRC4S7V",
        "colab_type": "code",
        "colab": {
          "base_uri": "https://localhost:8080/",
          "height": 102
        },
        "outputId": "651a8968-1923-4452-bfd3-019ac1cbe3a5"
      },
      "source": [
        "sum=0\n",
        "\n",
        "for i in range(3):\n",
        "  nums=[]\n",
        "  nums = int(input(\"Enter the value\"))\n",
        "  \n",
        "  sum+=nums\n",
        "\n",
        "print(nums)\n",
        "\n",
        "avg= sum/3\n",
        "\n",
        "print(\"Average \",avg)\n",
        "\n"
      ],
      "execution_count": 51,
      "outputs": [
        {
          "output_type": "stream",
          "text": [
            "Enter the value23\n",
            "Enter the value21\n",
            "Enter the value9\n",
            "9\n",
            "Average  17.666666666666668\n"
          ],
          "name": "stdout"
        }
      ]
    },
    {
      "cell_type": "code",
      "metadata": {
        "id": "ba43RM_O_nUT",
        "colab_type": "code",
        "colab": {
          "base_uri": "https://localhost:8080/",
          "height": 425
        },
        "outputId": "568d35ce-3a6f-4882-cf48-479431ba18aa"
      },
      "source": [
        "numberList = []\n",
        "\n",
        "sum=0\n",
        "avg=0\n",
        "\n",
        "\n",
        "for i in range(10):\n",
        "    print(\"Enter number at location\", i, \":\")\n",
        "    item = int(input())\n",
        "    numberList.append(item)\n",
        "    sum+=item\n",
        "\n",
        "avg=sum/10\n",
        "print(\"Average \",avg)\n",
        "\n",
        "\n",
        "avg_grt=[]\n",
        "avg_less=[]\n",
        "avg_equal=[]\n",
        "\n",
        "\n",
        "for i  in numberList:\n",
        "  \n",
        "   if i > avg:\n",
        "      avg_grt.append(i)\n",
        "   elif i < avg:\n",
        "     avg_less.append(i)\n",
        "   else:\n",
        "     avg_equals.append(i)\n",
        "\n",
        "\n",
        "\n",
        "#print(avg_list)\n",
        "print(\"Number greater than average is \",avg_grt)\n",
        "print(\"Number less than average is \",avg_less)\n",
        "print(\"Number equal to  average is \",avg_equal)\n",
        "\n",
        "\n",
        "\n",
        " "
      ],
      "execution_count": 96,
      "outputs": [
        {
          "output_type": "stream",
          "text": [
            "Enter number at location 0 :\n",
            "23\n",
            "Enter number at location 1 :\n",
            "32\n",
            "Enter number at location 2 :\n",
            "12\n",
            "Enter number at location 3 :\n",
            "21\n",
            "Enter number at location 4 :\n",
            "34\n",
            "Enter number at location 5 :\n",
            "33\n",
            "Enter number at location 6 :\n",
            "43\n",
            "Enter number at location 7 :\n",
            "45\n",
            "Enter number at location 8 :\n",
            "54\n",
            "Enter number at location 9 :\n",
            "56\n",
            "Average  35.3\n",
            "Number greater than average is  [43, 45, 54, 56]\n",
            "Number less than average is  [23, 32, 12, 21, 34, 33]\n",
            "Number equal to  average is  []\n"
          ],
          "name": "stdout"
        }
      ]
    },
    {
      "cell_type": "code",
      "metadata": {
        "id": "Dspl90rRXG_r",
        "colab_type": "code",
        "colab": {
          "base_uri": "https://localhost:8080/",
          "height": 102
        },
        "outputId": "beaa08dc-0eee-4af2-e6c3-dd30444ce247"
      },
      "source": [
        "a = int(input(\"Enter the value of A:\"))\n",
        "b = int(input(\"Enter the value of B:\"))\n",
        "c = int(input(\"Enter the value of C:\"))\n",
        "d = int(input(\"Enter the value of D:\"))\n",
        "\n",
        "if a > b and a >c and a >d:\n",
        "  print(\"A is greater Number\")\n",
        "elif b> a and b> c and b > d:\n",
        "  print(\"B is greater Number\")\n",
        "elif c> a and c> b and c > d:\n",
        "  print(\"C is greates Number\")\n",
        "elif d> a and d> c and d> c:\n",
        "  print(\"D is greater Number\")\n",
        "else:\n",
        "  print(\"All numbers are equal\")\n"
      ],
      "execution_count": 116,
      "outputs": [
        {
          "output_type": "stream",
          "text": [
            "Enter the value of A:22\n",
            "Enter the value of B:22\n",
            "Enter the value of C:22\n",
            "Enter the value of D:22\n",
            "All numbers are equal\n"
          ],
          "name": "stdout"
        }
      ]
    },
    {
      "cell_type": "code",
      "metadata": {
        "id": "ha81H2b4-aPW",
        "colab_type": "code",
        "colab": {
          "base_uri": "https://localhost:8080/",
          "height": 187
        },
        "outputId": "4494c64c-4ae2-4498-9a3b-60c0a1f3cd59"
      },
      "source": [
        "A = [10,20,30,40,50,60,70,80,90,110]\n",
        "B=[\"Albert\",\"Brain\",\"Charles\",\"Derik\",\"Edward\",\"Franco\",\"Gerad\",\"Henry\",\"Irwin\",\"Jack\"]\n",
        "\n",
        "#Print all names on to screen\n",
        "print(\"All Names on the screen\",B)\n",
        "\n",
        "#Read the index from the  user and print the corresponding name from both list\n",
        "emp_id= int(input(\"Enter index to search:\"))\n",
        "\n",
        "if A[emp_id]:\n",
        "  print(\"Value at searched index is \",A[emp_id])\n",
        "else:\n",
        "  print(\"Not Found\")\n",
        "\n",
        "#Print the names from 4th position to 9th position\n",
        "print(\"Names from 4th psotion to 9th psotion is: \",B[4:9])\n",
        "\n",
        "#Print all names from 3rd position till end of the list\n",
        "print(\"Name at 3rd postion till end is \",A[3:])\n",
        "\n",
        "#Repeat list elements by specified number of times (N- times, where N is entered by user)\n",
        "r= int(input(\"Enter the no of times you want list to repeat\"))\n",
        "print(\"Repeated list is : \")\n",
        "print(r*A)\n",
        "\n",
        "#Concatenate two lists and print the output\n",
        "list3= A+ B\n",
        "print(\"Concatenated List: \",list3)\n",
        "\n",
        "#Print element of list A and B side by side.(i.e. List-A First element, List-B First element )\n",
        "details = dict(zip(A,B))\n",
        "print(\"Mapping of both list: \",details)\n"
      ],
      "execution_count": 158,
      "outputs": [
        {
          "output_type": "stream",
          "text": [
            "All Names on the screen ['Albert', 'Brain', 'Charles', 'Derik', 'Edward', 'Franco', 'Gerad', 'Henry', 'Irwin', 'Jack']\n",
            "Enter index to search:2\n",
            "Value at searched index is  30\n",
            "Names from 4th psotion to 9th psotion is:  ['Edward', 'Franco', 'Gerad', 'Henry', 'Irwin']\n",
            "Name at 3rd postion till end is  [40, 50, 60, 70, 80, 90, 110]\n",
            "Enter the no of times you want list to repeat2\n",
            "Repeated list is : \n",
            "[10, 20, 30, 40, 50, 60, 70, 80, 90, 110, 10, 20, 30, 40, 50, 60, 70, 80, 90, 110]\n",
            "Concatenated List:  [10, 20, 30, 40, 50, 60, 70, 80, 90, 110, 'Albert', 'Brain', 'Charles', 'Derik', 'Edward', 'Franco', 'Gerad', 'Henry', 'Irwin', 'Jack']\n",
            "Mapping of both list:  {10: 'Albert', 20: 'Brain', 30: 'Charles', 40: 'Derik', 50: 'Edward', 60: 'Franco', 70: 'Gerad', 80: 'Henry', 90: 'Irwin', 110: 'Jack'}\n"
          ],
          "name": "stdout"
        }
      ]
    },
    {
      "cell_type": "code",
      "metadata": {
        "id": "tfBiEXr0aWLU",
        "colab_type": "code",
        "colab": {
          "base_uri": "https://localhost:8080/",
          "height": 51
        },
        "outputId": "4539b255-9153-4ecb-f445-623b30ed85b6"
      },
      "source": [
        "a= [4,5,6,7]\n",
        "i = int(input(\"Enter the no of times you want list to repeat: \"))\n",
        "\n",
        "print(i*a)\n"
      ],
      "execution_count": 150,
      "outputs": [
        {
          "output_type": "stream",
          "text": [
            "Enter the no of times you want list to repeat: 2\n",
            "[4, 5, 6, 7, 4, 5, 6, 7]\n"
          ],
          "name": "stdout"
        }
      ]
    }
  ]
}