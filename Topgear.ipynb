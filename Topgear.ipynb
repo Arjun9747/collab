{
  "nbformat": 4,
  "nbformat_minor": 0,
  "metadata": {
    "colab": {
      "name": "Topgear",
      "provenance": [],
      "authorship_tag": "ABX9TyPz1YNYI8Xt9IBccQYlFLHk",
      "include_colab_link": true
    },
    "kernelspec": {
      "name": "python3",
      "display_name": "Python 3"
    }
  },
  "cells": [
    {
      "cell_type": "markdown",
      "metadata": {
        "id": "view-in-github",
        "colab_type": "text"
      },
      "source": [
        "<a href=\"https://colab.research.google.com/github/Arjun9747/collab/blob/master/Topgear.ipynb\" target=\"_parent\"><img src=\"https://colab.research.google.com/assets/colab-badge.svg\" alt=\"Open In Colab\"/></a>"
      ]
    },
    {
      "cell_type": "code",
      "metadata": {
        "id": "O5tgIWUV5NPS",
        "colab_type": "code",
        "colab": {
          "base_uri": "https://localhost:8080/",
          "height": 136
        },
        "outputId": "946d5558-30df-4a7b-ebe5-6f200e5fb0df"
      },
      "source": [
        "#program to Add, Subtract, Multiply, and Divide 2 numbers\n",
        "\n",
        "num1= float(input(\"Enter first number:\"))\n",
        "num2 = float(input(\"Enter second number:\"))\n",
        "\n",
        "print(num1+num2)\n",
        "\n",
        "add = num1+num2\n",
        "multi = num1* num2\n",
        "sub= num1- num2\n",
        "div= num1/num2\n",
        "\n",
        "print(\"Multiplication\",multi)\n",
        "\n",
        "print(\"Addition\" ,add)\n",
        "print(\"Subtraction\" ,sub)\n",
        "print(\"Divison\" ,div)"
      ],
      "execution_count": 19,
      "outputs": [
        {
          "output_type": "stream",
          "text": [
            "Enter first number:4\n",
            "Enter second number:2\n",
            "6.0\n",
            "Multiplication 8.0\n",
            "Addition 6.0\n",
            "Subtraction 2.0\n",
            "Divison 2.0\n"
          ],
          "name": "stdout"
        }
      ]
    },
    {
      "cell_type": "code",
      "metadata": {
        "id": "bNS-8AJoNSjr",
        "colab_type": "code",
        "colab": {
          "base_uri": "https://localhost:8080/",
          "height": 85
        },
        "outputId": "3998249f-5661-469f-92ce-d291481ef918"
      },
      "source": [
        "#program to find the biggest of 3 numbers \n",
        "a = int(input(\"Enter a value for A:\"))\n",
        "b = int(input(\"Enter a value for B:\"))\n",
        "c = int(input(\"Enter a value for C:\"))\n",
        "\n",
        "if a > b and a > c:\n",
        "  print(\"A is biggest number\")\n",
        "elif b > a and b > c:\n",
        "  print(\"B is the biggest number\")\n",
        "elif c> a and c> b:\n",
        "  print(\"C is the biggest number\")"
      ],
      "execution_count": 22,
      "outputs": [
        {
          "output_type": "stream",
          "text": [
            "Enter a value for A:34\n",
            "Enter a value for B:543\n",
            "Enter a value for C:2\n",
            "B is the biggest number\n"
          ],
          "name": "stdout"
        }
      ]
    },
    {
      "cell_type": "code",
      "metadata": {
        "id": "1W7HlnKPOPJi",
        "colab_type": "code",
        "colab": {
          "base_uri": "https://localhost:8080/",
          "height": 51
        },
        "outputId": "a5f130c3-a106-45e8-f333-9c6fd3ae59c7"
      },
      "source": [
        "#program to find given number is odd or Even\n",
        "\n",
        "\n",
        "a= int(input(\"Enter a value for A:\"))\n",
        "\n",
        "if a%2 ==0:\n",
        "  print(\"Value is Even!\")\n",
        "else:\n",
        "  print(\"Value is Odd!\")"
      ],
      "execution_count": 24,
      "outputs": [
        {
          "output_type": "stream",
          "text": [
            "Enter a value for A:22\n",
            "Value is Even!\n"
          ],
          "name": "stdout"
        }
      ]
    },
    {
      "cell_type": "code",
      "metadata": {
        "id": "hM7Lt7xiO9DG",
        "colab_type": "code",
        "colab": {
          "base_uri": "https://localhost:8080/",
          "height": 51
        },
        "outputId": "c0ed99b6-4694-49ec-d4ae-ce023d6eef00"
      },
      "source": [
        "#program to find the number is Prime or not\n",
        "num = int(input(\"Enter your value\"))\n",
        "\n",
        "if num >1:\n",
        "  for i in range(2,num):\n",
        "    if num% i ==0:\n",
        "      print(num,\"is Not Prime Number\")\n",
        "      break\n",
        "  else:\n",
        "    print(num,\"is a prime Number\")\n"
      ],
      "execution_count": 37,
      "outputs": [
        {
          "output_type": "stream",
          "text": [
            "Enter your value7\n",
            "7 is a prime Number\n"
          ],
          "name": "stdout"
        }
      ]
    },
    {
      "cell_type": "code",
      "metadata": {
        "id": "UXnIsK0XTAF2",
        "colab_type": "code",
        "colab": {
          "base_uri": "https://localhost:8080/",
          "height": 119
        },
        "outputId": "992eec55-57b0-460d-dabb-baf493ec9eb6"
      },
      "source": [
        "#program to read string and print each character separately\n",
        "string= input(\"Enter your string:\")\n",
        "\n",
        "for i in string:\n",
        "  print(i)\n"
      ],
      "execution_count": 38,
      "outputs": [
        {
          "output_type": "stream",
          "text": [
            "Enter your string:Arjun\n",
            "A\n",
            "r\n",
            "j\n",
            "u\n",
            "n\n"
          ],
          "name": "stdout"
        }
      ]
    },
    {
      "cell_type": "code",
      "metadata": {
        "id": "BiiXcHlEahFn",
        "colab_type": "code",
        "colab": {
          "base_uri": "https://localhost:8080/",
          "height": 51
        },
        "outputId": "19682239-1c71-405f-fd22-b5d9ee4f5754"
      },
      "source": [
        "#Slice the string using slice operator [:] slice the portion the strings to create a sub strings\n",
        "string= input(\"Enter your string value: \")\n",
        "\n",
        "print(string[4:])"
      ],
      "execution_count": 40,
      "outputs": [
        {
          "output_type": "stream",
          "text": [
            "Enter your string value: television\n",
            "vision\n"
          ],
          "name": "stdout"
        }
      ]
    },
    {
      "cell_type": "code",
      "metadata": {
        "id": "LCoIJBWsbqgk",
        "colab_type": "code",
        "colab": {
          "base_uri": "https://localhost:8080/",
          "height": 51
        },
        "outputId": "92118a29-4301-471b-e0aa-464c20dbdad0"
      },
      "source": [
        "#Repeat the string 100 times using repeat operator *\n",
        "string= input(\"Enter your string value: \")\n",
        "\n",
        "for i in range(100):\n",
        "  print(string,end=' ')"
      ],
      "execution_count": 164,
      "outputs": [
        {
          "output_type": "stream",
          "text": [
            "Enter your string value: arjun\n",
            "arjun arjun arjun arjun arjun "
          ],
          "name": "stdout"
        }
      ]
    },
    {
      "cell_type": "code",
      "metadata": {
        "id": "dLfi3gI8crQ_",
        "colab_type": "code",
        "colab": {
          "base_uri": "https://localhost:8080/",
          "height": 68
        },
        "outputId": "e9eb8a61-10e1-43ed-d21c-3901b898ddaa"
      },
      "source": [
        "#Read string 2 and concatenate with other string using + operator\n",
        "string1= input(\"Enter the first string: \")\n",
        "string2= input(\"Enter the second string: \")\n",
        "\n",
        "print(string1 + \" \" +string2)"
      ],
      "execution_count": 44,
      "outputs": [
        {
          "output_type": "stream",
          "text": [
            "Enter the first string: Hello\n",
            "Enter the second string: Arjun\n",
            "Hello Arjun\n"
          ],
          "name": "stdout"
        }
      ]
    },
    {
      "cell_type": "code",
      "metadata": {
        "id": "cuGSehSedJ7-",
        "colab_type": "code",
        "colab": {
          "base_uri": "https://localhost:8080/",
          "height": 85
        },
        "outputId": "f37b641e-d27f-4a81-c4b0-6c49eea147df"
      },
      "source": [
        "#Create a list with at least 10 elements having integer values in it\n",
        "list1= [34,32,23,11,90,4,12,55,77]\n",
        "\n",
        "list2=['Arjun']* 4\n",
        "print(list2)\n",
        "\n",
        "print(list1)\n",
        "print(list1[1:4])\n",
        "\n",
        "print(list1+list2)"
      ],
      "execution_count": 50,
      "outputs": [
        {
          "output_type": "stream",
          "text": [
            "['Arjun', 'Arjun', 'Arjun', 'Arjun']\n",
            "[34, 32, 23, 11, 90, 4, 12, 55, 77]\n",
            "[32, 23, 11]\n",
            "[34, 32, 23, 11, 90, 4, 12, 55, 77, 'Arjun', 'Arjun', 'Arjun', 'Arjun']\n"
          ],
          "name": "stdout"
        }
      ]
    },
    {
      "cell_type": "code",
      "metadata": {
        "id": "d7vC5jxfgQKi",
        "colab_type": "code",
        "colab": {
          "base_uri": "https://localhost:8080/",
          "height": 85
        },
        "outputId": "ef21b603-e6b7-44d4-c298-d12a987252ca"
      },
      "source": [
        "#Tuples\n",
        "tup1= ('Python','Java','Ruby','C#','Cobol','Perl')\n",
        "print(tup1)\n",
        "print(tup1[1:5])\n",
        "tup2=(\"arjun\",)*3\n",
        "print(tup2)\n",
        "print(tup1+tup2)\n"
      ],
      "execution_count": 60,
      "outputs": [
        {
          "output_type": "stream",
          "text": [
            "('Python', 'Java', 'Ruby', 'C#', 'Cobol', 'Perl')\n",
            "('Java', 'Ruby', 'C#', 'Cobol')\n",
            "('arjun', 'arjun', 'arjun')\n",
            "('Python', 'Java', 'Ruby', 'C#', 'Cobol', 'Perl', 'arjun', 'arjun', 'arjun')\n"
          ],
          "name": "stdout"
        }
      ]
    },
    {
      "cell_type": "code",
      "metadata": {
        "id": "G_eF_cgltQ3p",
        "colab_type": "code",
        "colab": {
          "base_uri": "https://localhost:8080/",
          "height": 85
        },
        "outputId": "cc2180e0-14fe-4ff3-b61e-ee7e60b67dcf"
      },
      "source": [
        "#program to Add, Subtract, Multiply, Divide 2 Complex numbers\n",
        "com1= 9 + 3j\n",
        "com2=3 + 4j\n",
        "\n",
        "com_add= com1+com2\n",
        "print(\"Addition\", com_add)\n",
        "\n",
        "com_sub= com1 - com2\n",
        "print(\"Substraction\", com_sub)\n",
        "\n",
        "com_mult = com1 * com2\n",
        "print(\"Multiplication\", com_mult)\n",
        "\n",
        "com_div = com1/ com2\n",
        "print(\"Division\", com_div)"
      ],
      "execution_count": 10,
      "outputs": [
        {
          "output_type": "stream",
          "text": [
            "Addition (12+7j)\n",
            "Substraction (6-1j)\n",
            "Multiplication (15+45j)\n",
            "Division (1.56-1.08j)\n"
          ],
          "name": "stdout"
        }
      ]
    },
    {
      "cell_type": "code",
      "metadata": {
        "id": "TuovooO9zaNW",
        "colab_type": "code",
        "colab": {
          "base_uri": "https://localhost:8080/",
          "height": 119
        },
        "outputId": "32b9f128-fba4-4422-bc6d-6704bfd3038a"
      },
      "source": [
        "#Using assignment operators, perform following operationsAddition, Substation, Multiplication, Division, Modulus, Exponent and Floor division operations\n",
        "\n",
        "a= 100\n",
        "a+=10\n",
        "print(\"Value of A after additon\", a)\n",
        "\n",
        "b = 100\n",
        "b-=10\n",
        "print(\"Value of B after Substraction\", b)\n",
        "\n",
        "c = 100\n",
        "c*=2\n",
        "print(\"Value of C after multiplication\", c)\n",
        "\n",
        "d = 100\n",
        "d/=5\n",
        "print(\"Value of D after divison\",d)\n",
        "\n",
        "e= 100\n",
        "e %=3\n",
        "print(\"Value of E after Modulus\", e)\n",
        "\n",
        "f = 10\n",
        "f**=5\n",
        "print(\"Value of F after exponent operation\",f)\n",
        "\n"
      ],
      "execution_count": 17,
      "outputs": [
        {
          "output_type": "stream",
          "text": [
            "Value of A after additon 110\n",
            "Value of B after Substraction 90\n",
            "Value of C after multiplication 200\n",
            "Value of D after divison 20.0\n",
            "Value of E after Modulus 1\n",
            "Value of F after exponent operation 100000\n"
          ],
          "name": "stdout"
        }
      ]
    },
    {
      "cell_type": "code",
      "metadata": {
        "id": "KTV4av051p01",
        "colab_type": "code",
        "colab": {
          "base_uri": "https://localhost:8080/",
          "height": 119
        },
        "outputId": "7706e52f-d87e-4c46-848b-6ba25345bd7d"
      },
      "source": [
        "#Read 2 numbers to variable a and b and perform all bitwise operations on that numbers\n",
        "a= 51\n",
        "b= 18\n",
        "c=0\n",
        "\n",
        "c = a & b\n",
        "print(\"C after AND opeartion\", c)\n",
        "\n",
        "c= a| b\n",
        "print(\"C after OR operation\", c)\n",
        "\n",
        "c=a^b\n",
        "print(\"C after XOR opeartion\", c)\n",
        "\n",
        "c= ~c\n",
        "print(\"C after compliment\", c)\n",
        "\n",
        "c= a <<2\n",
        "print(\"C after binary left shift\", c)\n",
        "\n",
        "c= a >>2\n",
        "print(\"C after binary left shift\", c)\n"
      ],
      "execution_count": 25,
      "outputs": [
        {
          "output_type": "stream",
          "text": [
            "C after AND opeartion 18\n",
            "C after OR operation 51\n",
            "C after XOR opeartion 33\n",
            "C after compliment -34\n",
            "C after binary left shift 204\n",
            "C after binary left shift 12\n"
          ],
          "name": "stdout"
        }
      ]
    },
    {
      "cell_type": "code",
      "metadata": {
        "id": "pk9rJWRC4S7V",
        "colab_type": "code",
        "colab": {
          "base_uri": "https://localhost:8080/",
          "height": 102
        },
        "outputId": "651a8968-1923-4452-bfd3-019ac1cbe3a5"
      },
      "source": [
        "#Read 10 numbers from user and find the average of all\n",
        "sum=0\n",
        "\n",
        "for i in range(3):\n",
        "  nums=[]\n",
        "  nums = int(input(\"Enter the value\"))\n",
        "  \n",
        "  sum+=nums\n",
        "\n",
        "print(nums)\n",
        "\n",
        "avg= sum/3\n",
        "\n",
        "print(\"Average \",avg)\n",
        "\n"
      ],
      "execution_count": 51,
      "outputs": [
        {
          "output_type": "stream",
          "text": [
            "Enter the value23\n",
            "Enter the value21\n",
            "Enter the value9\n",
            "9\n",
            "Average  17.666666666666668\n"
          ],
          "name": "stdout"
        }
      ]
    },
    {
      "cell_type": "code",
      "metadata": {
        "id": "ba43RM_O_nUT",
        "colab_type": "code",
        "colab": {
          "base_uri": "https://localhost:8080/",
          "height": 425
        },
        "outputId": "568d35ce-3a6f-4882-cf48-479431ba18aa"
      },
      "source": [
        "numberList = []\n",
        "\n",
        "sum=0\n",
        "avg=0\n",
        "\n",
        "\"\"\"Use comparison operator to check how many numbers are less than average and print them\n",
        " Check how many numbers are more than average.\n",
        " How many are equal to average.\"\"\"\n",
        " \n",
        "for i in range(10):\n",
        "    print(\"Enter number at location\", i, \":\")\n",
        "    item = int(input())\n",
        "    numberList.append(item)\n",
        "    sum+=item\n",
        "\n",
        "avg=sum/10\n",
        "print(\"Average \",avg)\n",
        "\n",
        "\n",
        "avg_grt=[]\n",
        "avg_less=[]\n",
        "avg_equal=[]\n",
        "\n",
        "\n",
        "for i  in numberList:\n",
        "  \n",
        "   if i > avg:\n",
        "      avg_grt.append(i)\n",
        "   elif i < avg:\n",
        "     avg_less.append(i)\n",
        "   else:\n",
        "     avg_equals.append(i)\n",
        "\n",
        "\n",
        "\n",
        "#print(avg_list)\n",
        "print(\"Number greater than average is \",avg_grt)\n",
        "print(\"Number less than average is \",avg_less)\n",
        "print(\"Number equal to  average is \",avg_equal)\n",
        "\n",
        "\n",
        "\n",
        " "
      ],
      "execution_count": 96,
      "outputs": [
        {
          "output_type": "stream",
          "text": [
            "Enter number at location 0 :\n",
            "23\n",
            "Enter number at location 1 :\n",
            "32\n",
            "Enter number at location 2 :\n",
            "12\n",
            "Enter number at location 3 :\n",
            "21\n",
            "Enter number at location 4 :\n",
            "34\n",
            "Enter number at location 5 :\n",
            "33\n",
            "Enter number at location 6 :\n",
            "43\n",
            "Enter number at location 7 :\n",
            "45\n",
            "Enter number at location 8 :\n",
            "54\n",
            "Enter number at location 9 :\n",
            "56\n",
            "Average  35.3\n",
            "Number greater than average is  [43, 45, 54, 56]\n",
            "Number less than average is  [23, 32, 12, 21, 34, 33]\n",
            "Number equal to  average is  []\n"
          ],
          "name": "stdout"
        }
      ]
    },
    {
      "cell_type": "code",
      "metadata": {
        "id": "Dspl90rRXG_r",
        "colab_type": "code",
        "colab": {
          "base_uri": "https://localhost:8080/",
          "height": 102
        },
        "outputId": "beaa08dc-0eee-4af2-e6c3-dd30444ce247"
      },
      "source": [
        "#Write a program to find the biggest of 4 numbers.\n",
        "a = int(input(\"Enter the value of A:\"))\n",
        "b = int(input(\"Enter the value of B:\"))\n",
        "c = int(input(\"Enter the value of C:\"))\n",
        "d = int(input(\"Enter the value of D:\"))\n",
        "\n",
        "if a > b and a >c and a >d:\n",
        "  print(\"A is greater Number\")\n",
        "elif b> a and b> c and b > d:\n",
        "  print(\"B is greater Number\")\n",
        "elif c> a and c> b and c > d:\n",
        "  print(\"C is greates Number\")\n",
        "elif d> a and d> c and d> c:\n",
        "  print(\"D is greater Number\")\n",
        "else:\n",
        "  print(\"All numbers are equal\")\n"
      ],
      "execution_count": 116,
      "outputs": [
        {
          "output_type": "stream",
          "text": [
            "Enter the value of A:22\n",
            "Enter the value of B:22\n",
            "Enter the value of C:22\n",
            "Enter the value of D:22\n",
            "All numbers are equal\n"
          ],
          "name": "stdout"
        }
      ]
    },
    {
      "cell_type": "code",
      "metadata": {
        "id": "CRTQ1yP6xeoo",
        "colab_type": "code",
        "colab": {}
      },
      "source": [
        ""
      ],
      "execution_count": null,
      "outputs": []
    },
    {
      "cell_type": "code",
      "metadata": {
        "id": "ha81H2b4-aPW",
        "colab_type": "code",
        "colab": {
          "base_uri": "https://localhost:8080/",
          "height": 187
        },
        "outputId": "4494c64c-4ae2-4498-9a3b-60c0a1f3cd59"
      },
      "source": [
        "A = [10,20,30,40,50,60,70,80,90,110]\n",
        "B=[\"Albert\",\"Brain\",\"Charles\",\"Derik\",\"Edward\",\"Franco\",\"Gerad\",\"Henry\",\"Irwin\",\"Jack\"]\n",
        "\n",
        "#Print all names on to screen\n",
        "print(\"All Names on the screen\",B)\n",
        "\n",
        "#Read the index from the  user and print the corresponding name from both list\n",
        "emp_id= int(input(\"Enter index to search:\"))\n",
        "\n",
        "if A[emp_id]:\n",
        "  print(\"Value at searched index is \",A[emp_id])\n",
        "else:\n",
        "  print(\"Not Found\")\n",
        "\n",
        "#Print the names from 4th position to 9th position\n",
        "print(\"Names from 4th psotion to 9th psotion is: \",B[4:9])\n",
        "\n",
        "#Print all names from 3rd position till end of the list\n",
        "print(\"Name at 3rd postion till end is \",A[3:])\n",
        "\n",
        "#Repeat list elements by specified number of times (N- times, where N is entered by user)\n",
        "r= int(input(\"Enter the no of times you want list to repeat\"))\n",
        "print(\"Repeated list is : \")\n",
        "print(r*A)\n",
        "\n",
        "#Concatenate two lists and print the output\n",
        "list3= A+ B\n",
        "print(\"Concatenated List: \",list3)\n",
        "\n",
        "#Print element of list A and B side by side.(i.e. List-A First element, List-B First element )\n",
        "details = dict(zip(A,B))\n",
        "print(\"Mapping of both list: \",details)\n"
      ],
      "execution_count": 158,
      "outputs": [
        {
          "output_type": "stream",
          "text": [
            "All Names on the screen ['Albert', 'Brain', 'Charles', 'Derik', 'Edward', 'Franco', 'Gerad', 'Henry', 'Irwin', 'Jack']\n",
            "Enter index to search:2\n",
            "Value at searched index is  30\n",
            "Names from 4th psotion to 9th psotion is:  ['Edward', 'Franco', 'Gerad', 'Henry', 'Irwin']\n",
            "Name at 3rd postion till end is  [40, 50, 60, 70, 80, 90, 110]\n",
            "Enter the no of times you want list to repeat2\n",
            "Repeated list is : \n",
            "[10, 20, 30, 40, 50, 60, 70, 80, 90, 110, 10, 20, 30, 40, 50, 60, 70, 80, 90, 110]\n",
            "Concatenated List:  [10, 20, 30, 40, 50, 60, 70, 80, 90, 110, 'Albert', 'Brain', 'Charles', 'Derik', 'Edward', 'Franco', 'Gerad', 'Henry', 'Irwin', 'Jack']\n",
            "Mapping of both list:  {10: 'Albert', 20: 'Brain', 30: 'Charles', 40: 'Derik', 50: 'Edward', 60: 'Franco', 70: 'Gerad', 80: 'Henry', 90: 'Irwin', 110: 'Jack'}\n"
          ],
          "name": "stdout"
        }
      ]
    },
    {
      "cell_type": "code",
      "metadata": {
        "id": "yzrq-2Tmxf_k",
        "colab_type": "code",
        "colab": {
          "base_uri": "https://localhost:8080/",
          "height": 68
        },
        "outputId": "6a3f8607-a1b9-4683-ad6e-8e9728fffd62"
      },
      "source": [
        "\"\"\"Create a list of 5 names and check given name exist in the List.\n",
        "        a) Use membership operator (IN) to check the presence of an element.\n",
        "        b) Perform above task without using membership operator.\n",
        "        c) Print the elements of the list in reverse direction.\n",
        "\"\"\"\n",
        "\n",
        "list1 = [\"Albert\",\"Brain\",\"Carl\",\"Derik\",\"Peter\"]\n",
        "\n",
        "search= input(\"Enter name to search: \")\n",
        "\n",
        "if search in list1:\n",
        "  print(\"Searched\",search,\" is present\" )\n",
        "else:\n",
        "  print(\"Not Found\")\n",
        "\n",
        "#Print the elements of the list in reverse direction.\n",
        "\n",
        "print(list1[::-1])\n",
        "\n",
        "\n"
      ],
      "execution_count": 7,
      "outputs": [
        {
          "output_type": "stream",
          "text": [
            "Enter name to search: Ron\n",
            "Not Found\n",
            "['Peter', 'Derik', 'Carl', 'Brain', 'Albert']\n"
          ],
          "name": "stdout"
        }
      ]
    },
    {
      "cell_type": "code",
      "metadata": {
        "id": "J1gUlIpH4Btb",
        "colab_type": "code",
        "colab": {}
      },
      "source": [
        "se"
      ],
      "execution_count": null,
      "outputs": []
    },
    {
      "cell_type": "code",
      "metadata": {
        "id": "h2iIXyLv01hQ",
        "colab_type": "code",
        "colab": {
          "base_uri": "https://localhost:8080/",
          "height": 51
        },
        "outputId": "10f4f1be-2e02-4f4e-8463-0b8da4bb02de"
      },
      "source": [
        "#Perform above task without using membership operator\n",
        "\n",
        "def search(inset, item):\n",
        "    print(item, end=\"\")\n",
        "\n",
        "    if inset & set((item,)):\n",
        "        print(\" found\")\n",
        "    else:\n",
        "        print(\" not found\")\n",
        "\n",
        "mylist = [\"Albert\",\"Brain\",\"Carl\",\"Derik\",\"Peter\"]\n",
        "item = None\n",
        "\n",
        "myset = set(mylist)\n",
        "while True:\n",
        "    num = input(\"Enter the item you want to search for: \")\n",
        "    search(myset, num)\n",
        "    break\n"
      ],
      "execution_count": 5,
      "outputs": [
        {
          "output_type": "stream",
          "text": [
            "Enter the item you want to search for: Carl\n",
            "Carl found\n"
          ],
          "name": "stdout"
        }
      ]
    },
    {
      "cell_type": "code",
      "metadata": {
        "id": "u547NguY9ZUh",
        "colab_type": "code",
        "colab": {
          "base_uri": "https://localhost:8080/",
          "height": 51
        },
        "outputId": "2f80d6b2-e8d0-4a68-cee8-8cc946b52179"
      },
      "source": [
        "#program to find the number is Prime or not\n",
        "num = int(input(\"Enter your value\"))\n",
        "\n",
        "if num >1:\n",
        "  for i in range(2,num):\n",
        "    if num% i ==0:\n",
        "      print(num,\"is Not Prime Number\")\n",
        "      break\n",
        "  else:\n",
        "    print(num,\"is a prime Number\")"
      ],
      "execution_count": 8,
      "outputs": [
        {
          "output_type": "stream",
          "text": [
            "Enter your value3\n",
            "3 is a prime Number\n"
          ],
          "name": "stdout"
        }
      ]
    },
    {
      "cell_type": "code",
      "metadata": {
        "id": "ZjDL0JgyOYLj",
        "colab_type": "code",
        "colab": {
          "base_uri": "https://localhost:8080/",
          "height": 68
        },
        "outputId": "cab41044-dfcc-4c0c-bf3f-5acaf8859d07"
      },
      "source": [
        "#Generate all the prime numbers between 1 to N where N is given number.\n",
        "\n",
        "n= int(input(\"Enter the range : \"))\n",
        "\n",
        "print(\"Prime numbers in the range\",n,\"are: \" )\n",
        "\n",
        "for num in range(2,n+ 1):\n",
        "   \n",
        "   if num > 1:\n",
        "       for i in range(2, num):\n",
        "           if (num % i) == 0:\n",
        "               break\n",
        "       else:\n",
        "           print(num,end=\" \")\n",
        "\n"
      ],
      "execution_count": 13,
      "outputs": [
        {
          "output_type": "stream",
          "text": [
            "Enter the range : 39\n",
            "Prime numbers in the range 39 are: \n",
            "2 3 5 7 11 13 17 19 23 29 31 37 "
          ],
          "name": "stdout"
        }
      ]
    },
    {
      "cell_type": "code",
      "metadata": {
        "id": "JQ7nPw0RQAZj",
        "colab_type": "code",
        "colab": {
          "base_uri": "https://localhost:8080/",
          "height": 34
        },
        "outputId": "4065f524-87cd-4c34-d44c-8aeb7197a713"
      },
      "source": [
        "\"\"\"\n",
        "Write program to find the biggest and Smallest of N numbers.\n",
        "      PS: Use the functions to find biggest and smallest numbers. \n",
        "\"\"\"\n",
        "for i in range(0,101):\n",
        "  if i ==50:\n",
        "    break\n",
        "  if i in (10,20,30,40,50):\n",
        "    print(i,end=\" \")\n",
        "    continue\n",
        "  \n",
        "\n"
      ],
      "execution_count": 40,
      "outputs": [
        {
          "output_type": "stream",
          "text": [
            "10 20 30 40 "
          ],
          "name": "stdout"
        }
      ]
    },
    {
      "cell_type": "code",
      "metadata": {
        "id": "PtnYiVjFmnk2",
        "colab_type": "code",
        "colab": {
          "base_uri": "https://localhost:8080/",
          "height": 34
        },
        "outputId": "8535a1af-db2b-4889-d3a7-e4f7a17257b7"
      },
      "source": [
        "for i in range(0,101):\n",
        "  if i ==90:\n",
        "    break\n",
        "  if i in (60,70,80,90):\n",
        "    print(i,end=\" \")\n",
        "    continue"
      ],
      "execution_count": 41,
      "outputs": [
        {
          "output_type": "stream",
          "text": [
            "60 70 80 "
          ],
          "name": "stdout"
        }
      ]
    },
    {
      "cell_type": "code",
      "metadata": {
        "id": "_WwvWA85oXTW",
        "colab_type": "code",
        "colab": {
          "base_uri": "https://localhost:8080/",
          "height": 136
        },
        "outputId": "1b225d21-fd3e-4b2d-c7e8-2e71e3abd540"
      },
      "source": [
        "#Write program to find the biggest and Smallest of N numbers\n",
        "\n",
        "lst=[]\n",
        "num=int(input(\"Enter the numbers range: \"))\n",
        "\n",
        "for i in range(num):\n",
        "  m=input(\"Enter the numbers: \")\n",
        "  lst.append(m)\n",
        "\n",
        "maximum= max(lst)\n",
        "minimum= min(lst)\n",
        "\n",
        "print(\"Maximum element of list is\", maximum)\n",
        "print(\"Minimum element of list is \",minimum)"
      ],
      "execution_count": 50,
      "outputs": [
        {
          "output_type": "stream",
          "text": [
            "Enter the numbers range: 4\n",
            "Enter the numbers: 23\n",
            "Enter the numbers: 56\n",
            "Enter the numbers: 12\n",
            "Enter the numbers: 43\n",
            "Maximum element of list is 56\n",
            "Minimum element of list is  12\n"
          ],
          "name": "stdout"
        }
      ]
    },
    {
      "cell_type": "code",
      "metadata": {
        "id": "jzNmrVT0qcUR",
        "colab_type": "code",
        "colab": {
          "base_uri": "https://localhost:8080/",
          "height": 54
        },
        "outputId": "21c955fb-6585-4d02-bd05-6a95e6753d0d"
      },
      "source": [
        "#Using loop structures print numbers from 1 to 100.  and using the same loop print numbers from 100 to 1 (reverse printing)\n",
        "#a) By using For loop \n",
        "\n",
        "for i in range(100,0,-1):\n",
        "  print(i,end=\" \")"
      ],
      "execution_count": 65,
      "outputs": [
        {
          "output_type": "stream",
          "text": [
            "100 99 98 97 96 95 94 93 92 91 90 89 88 87 86 85 84 83 82 81 80 79 78 77 76 75 74 73 72 71 70 69 68 67 66 65 64 63 62 61 60 59 58 57 56 55 54 53 52 51 50 49 48 47 46 45 44 43 42 41 40 39 38 37 36 35 34 33 32 31 30 29 28 27 26 25 24 23 22 21 20 19 18 17 16 15 14 13 12 11 10 9 8 7 6 5 4 3 2 1 "
          ],
          "name": "stdout"
        }
      ]
    },
    {
      "cell_type": "code",
      "metadata": {
        "id": "MsIpY6kPqohW",
        "colab_type": "code",
        "colab": {
          "base_uri": "https://localhost:8080/",
          "height": 54
        },
        "outputId": "99bbfa17-bfa7-4122-a5a1-0f447748a137"
      },
      "source": [
        "#b) By using while loop\n",
        "\n",
        "i=100\n",
        "while i > 0:\n",
        "  print(i,end=\" \")\n",
        "  i-=1"
      ],
      "execution_count": 61,
      "outputs": [
        {
          "output_type": "stream",
          "text": [
            "100 99 98 97 96 95 94 93 92 91 90 89 88 87 86 85 84 83 82 81 80 79 78 77 76 75 74 73 72 71 70 69 68 67 66 65 64 63 62 61 60 59 58 57 56 55 54 53 52 51 50 49 48 47 46 45 44 43 42 41 40 39 38 37 36 35 34 33 32 31 30 29 28 27 26 25 24 23 22 21 20 19 18 17 16 15 14 13 12 11 10 9 8 7 6 5 4 3 2 1 "
          ],
          "name": "stdout"
        }
      ]
    },
    {
      "cell_type": "code",
      "metadata": {
        "id": "2EILXBcXs4zD",
        "colab_type": "code",
        "colab": {
          "base_uri": "https://localhost:8080/",
          "height": 204
        },
        "outputId": "94616eff-280d-4a7d-f337-5e61a4e1a877"
      },
      "source": [
        "#print each character of mystring in to separate line using appropriate loop structure\n",
        "\n",
        "mystring= \"Hello World\"\n",
        "\n",
        "for i in mystring:\n",
        "  print(i)"
      ],
      "execution_count": 66,
      "outputs": [
        {
          "output_type": "stream",
          "text": [
            "H\n",
            "e\n",
            "l\n",
            "l\n",
            "o\n",
            " \n",
            "W\n",
            "o\n",
            "r\n",
            "l\n",
            "d\n"
          ],
          "name": "stdout"
        }
      ]
    }
  ]
}