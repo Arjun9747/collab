{
  "nbformat": 4,
  "nbformat_minor": 0,
  "metadata": {
    "colab": {
      "name": "Topgear",
      "provenance": [],
      "authorship_tag": "ABX9TyMvtDjUVQFgq+5XPoSbi5gK",
      "include_colab_link": true
    },
    "kernelspec": {
      "name": "python3",
      "display_name": "Python 3"
    }
  },
  "cells": [
    {
      "cell_type": "markdown",
      "metadata": {
        "id": "view-in-github",
        "colab_type": "text"
      },
      "source": [
        "<a href=\"https://colab.research.google.com/github/Arjun9747/collab/blob/master/Topgear.ipynb\" target=\"_parent\"><img src=\"https://colab.research.google.com/assets/colab-badge.svg\" alt=\"Open In Colab\"/></a>"
      ]
    },
    {
      "cell_type": "code",
      "metadata": {
        "id": "O5tgIWUV5NPS",
        "colab_type": "code",
        "colab": {
          "base_uri": "https://localhost:8080/",
          "height": 136
        },
        "outputId": "946d5558-30df-4a7b-ebe5-6f200e5fb0df"
      },
      "source": [
        "num1= float(input(\"Enter first number:\"))\n",
        "num2 = float(input(\"Enter second number:\"))\n",
        "\n",
        "print(num1+num2)\n",
        "\n",
        "add = num1+num2\n",
        "multi = num1* num2\n",
        "sub= num1- num2\n",
        "div= num1/num2\n",
        "\n",
        "print(\"Multiplication\",multi)\n",
        "\n",
        "print(\"Addition\" ,add)\n",
        "print(\"Subtraction\" ,sub)\n",
        "print(\"Divison\" ,div)"
      ],
      "execution_count": 19,
      "outputs": [
        {
          "output_type": "stream",
          "text": [
            "Enter first number:4\n",
            "Enter second number:2\n",
            "6.0\n",
            "Multiplication 8.0\n",
            "Addition 6.0\n",
            "Subtraction 2.0\n",
            "Divison 2.0\n"
          ],
          "name": "stdout"
        }
      ]
    }
  ]
}