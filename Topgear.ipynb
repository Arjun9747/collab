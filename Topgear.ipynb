{
  "nbformat": 4,
  "nbformat_minor": 0,
  "metadata": {
    "colab": {
      "name": "Topgear",
      "provenance": [],
      "toc_visible": true,
      "authorship_tag": "ABX9TyMJ5yjVoGeD43eSQNUiYTPT",
      "include_colab_link": true
    },
    "kernelspec": {
      "name": "python3",
      "display_name": "Python 3"
    }
  },
  "cells": [
    {
      "cell_type": "markdown",
      "metadata": {
        "id": "view-in-github",
        "colab_type": "text"
      },
      "source": [
        "<a href=\"https://colab.research.google.com/github/Arjun9747/collab/blob/master/Topgear.ipynb\" target=\"_parent\"><img src=\"https://colab.research.google.com/assets/colab-badge.svg\" alt=\"Open In Colab\"/></a>"
      ]
    },
    {
      "cell_type": "code",
      "metadata": {
        "id": "O5tgIWUV5NPS",
        "colab_type": "code",
        "colab": {
          "base_uri": "https://localhost:8080/",
          "height": 136
        },
        "outputId": "946d5558-30df-4a7b-ebe5-6f200e5fb0df"
      },
      "source": [
        "num1= float(input(\"Enter first number:\"))\n",
        "num2 = float(input(\"Enter second number:\"))\n",
        "\n",
        "print(num1+num2)\n",
        "\n",
        "add = num1+num2\n",
        "multi = num1* num2\n",
        "sub= num1- num2\n",
        "div= num1/num2\n",
        "\n",
        "print(\"Multiplication\",multi)\n",
        "\n",
        "print(\"Addition\" ,add)\n",
        "print(\"Subtraction\" ,sub)\n",
        "print(\"Divison\" ,div)"
      ],
      "execution_count": 19,
      "outputs": [
        {
          "output_type": "stream",
          "text": [
            "Enter first number:4\n",
            "Enter second number:2\n",
            "6.0\n",
            "Multiplication 8.0\n",
            "Addition 6.0\n",
            "Subtraction 2.0\n",
            "Divison 2.0\n"
          ],
          "name": "stdout"
        }
      ]
    },
    {
      "cell_type": "code",
      "metadata": {
        "id": "bNS-8AJoNSjr",
        "colab_type": "code",
        "colab": {
          "base_uri": "https://localhost:8080/",
          "height": 85
        },
        "outputId": "3998249f-5661-469f-92ce-d291481ef918"
      },
      "source": [
        "a = int(input(\"Enter a value for A:\"))\n",
        "b = int(input(\"Enter a value for B:\"))\n",
        "c = int(input(\"Enter a value for C:\"))\n",
        "\n",
        "if a > b and a > c:\n",
        "  print(\"A is biggest number\")\n",
        "elif b > a and b > c:\n",
        "  print(\"B is the biggest number\")\n",
        "elif c> a and c> b:\n",
        "  print(\"C is the biggest number\")"
      ],
      "execution_count": 22,
      "outputs": [
        {
          "output_type": "stream",
          "text": [
            "Enter a value for A:34\n",
            "Enter a value for B:543\n",
            "Enter a value for C:2\n",
            "B is the biggest number\n"
          ],
          "name": "stdout"
        }
      ]
    },
    {
      "cell_type": "code",
      "metadata": {
        "id": "1W7HlnKPOPJi",
        "colab_type": "code",
        "colab": {
          "base_uri": "https://localhost:8080/",
          "height": 51
        },
        "outputId": "a5f130c3-a106-45e8-f333-9c6fd3ae59c7"
      },
      "source": [
        "a= int(input(\"Enter a value for A:\"))\n",
        "\n",
        "if a%2 ==0:\n",
        "  print(\"Value is Even!\")\n",
        "else:\n",
        "  print(\"Value is Odd!\")"
      ],
      "execution_count": 24,
      "outputs": [
        {
          "output_type": "stream",
          "text": [
            "Enter a value for A:22\n",
            "Value is Even!\n"
          ],
          "name": "stdout"
        }
      ]
    },
    {
      "cell_type": "code",
      "metadata": {
        "id": "hM7Lt7xiO9DG",
        "colab_type": "code",
        "colab": {
          "base_uri": "https://localhost:8080/",
          "height": 51
        },
        "outputId": "c0ed99b6-4694-49ec-d4ae-ce023d6eef00"
      },
      "source": [
        "num = int(input(\"Enter your value\"))\n",
        "\n",
        "if num >1:\n",
        "  for i in range(2,num):\n",
        "    if num% i ==0:\n",
        "      print(num,\"is Not Prime Number\")\n",
        "      break\n",
        "  else:\n",
        "    print(num,\"is a prime Number\")\n"
      ],
      "execution_count": 37,
      "outputs": [
        {
          "output_type": "stream",
          "text": [
            "Enter your value7\n",
            "7 is a prime Number\n"
          ],
          "name": "stdout"
        }
      ]
    },
    {
      "cell_type": "code",
      "metadata": {
        "id": "UXnIsK0XTAF2",
        "colab_type": "code",
        "colab": {
          "base_uri": "https://localhost:8080/",
          "height": 119
        },
        "outputId": "992eec55-57b0-460d-dabb-baf493ec9eb6"
      },
      "source": [
        "string= input(\"Enter your string:\")\n",
        "\n",
        "for i in string:\n",
        "  print(i)\n"
      ],
      "execution_count": 38,
      "outputs": [
        {
          "output_type": "stream",
          "text": [
            "Enter your string:Arjun\n",
            "A\n",
            "r\n",
            "j\n",
            "u\n",
            "n\n"
          ],
          "name": "stdout"
        }
      ]
    },
    {
      "cell_type": "code",
      "metadata": {
        "id": "BiiXcHlEahFn",
        "colab_type": "code",
        "colab": {
          "base_uri": "https://localhost:8080/",
          "height": 51
        },
        "outputId": "19682239-1c71-405f-fd22-b5d9ee4f5754"
      },
      "source": [
        "string= input(\"Enter your string value: \")\n",
        "\n",
        "print(string[4:])"
      ],
      "execution_count": 40,
      "outputs": [
        {
          "output_type": "stream",
          "text": [
            "Enter your string value: television\n",
            "vision\n"
          ],
          "name": "stdout"
        }
      ]
    },
    {
      "cell_type": "code",
      "metadata": {
        "id": "LCoIJBWsbqgk",
        "colab_type": "code",
        "colab": {
          "base_uri": "https://localhost:8080/",
          "height": 1000
        },
        "outputId": "0dbdae20-a841-4f7e-fe9f-a17d56804c51"
      },
      "source": [
        "string= input(\"Enter your string value: \")\n",
        "\n",
        "for i in range(101):\n",
        "  print(string)"
      ],
      "execution_count": 41,
      "outputs": [
        {
          "output_type": "stream",
          "text": [
            "Enter your string value: hello\n",
            "hello\n",
            "hello\n",
            "hello\n",
            "hello\n",
            "hello\n",
            "hello\n",
            "hello\n",
            "hello\n",
            "hello\n",
            "hello\n",
            "hello\n",
            "hello\n",
            "hello\n",
            "hello\n",
            "hello\n",
            "hello\n",
            "hello\n",
            "hello\n",
            "hello\n",
            "hello\n",
            "hello\n",
            "hello\n",
            "hello\n",
            "hello\n",
            "hello\n",
            "hello\n",
            "hello\n",
            "hello\n",
            "hello\n",
            "hello\n",
            "hello\n",
            "hello\n",
            "hello\n",
            "hello\n",
            "hello\n",
            "hello\n",
            "hello\n",
            "hello\n",
            "hello\n",
            "hello\n",
            "hello\n",
            "hello\n",
            "hello\n",
            "hello\n",
            "hello\n",
            "hello\n",
            "hello\n",
            "hello\n",
            "hello\n",
            "hello\n",
            "hello\n",
            "hello\n",
            "hello\n",
            "hello\n",
            "hello\n",
            "hello\n",
            "hello\n",
            "hello\n",
            "hello\n",
            "hello\n",
            "hello\n",
            "hello\n",
            "hello\n",
            "hello\n",
            "hello\n",
            "hello\n",
            "hello\n",
            "hello\n",
            "hello\n",
            "hello\n",
            "hello\n",
            "hello\n",
            "hello\n",
            "hello\n",
            "hello\n",
            "hello\n",
            "hello\n",
            "hello\n",
            "hello\n",
            "hello\n",
            "hello\n",
            "hello\n",
            "hello\n",
            "hello\n",
            "hello\n",
            "hello\n",
            "hello\n",
            "hello\n",
            "hello\n",
            "hello\n",
            "hello\n",
            "hello\n",
            "hello\n",
            "hello\n",
            "hello\n",
            "hello\n",
            "hello\n",
            "hello\n",
            "hello\n",
            "hello\n",
            "hello\n"
          ],
          "name": "stdout"
        }
      ]
    },
    {
      "cell_type": "code",
      "metadata": {
        "id": "dLfi3gI8crQ_",
        "colab_type": "code",
        "colab": {
          "base_uri": "https://localhost:8080/",
          "height": 68
        },
        "outputId": "e9eb8a61-10e1-43ed-d21c-3901b898ddaa"
      },
      "source": [
        "string1= input(\"Enter the first string: \")\n",
        "string2= input(\"Enter the second string: \")\n",
        "\n",
        "print(string1 + \" \" +string2)"
      ],
      "execution_count": 44,
      "outputs": [
        {
          "output_type": "stream",
          "text": [
            "Enter the first string: Hello\n",
            "Enter the second string: Arjun\n",
            "Hello Arjun\n"
          ],
          "name": "stdout"
        }
      ]
    },
    {
      "cell_type": "code",
      "metadata": {
        "id": "cuGSehSedJ7-",
        "colab_type": "code",
        "colab": {
          "base_uri": "https://localhost:8080/",
          "height": 85
        },
        "outputId": "f37b641e-d27f-4a81-c4b0-6c49eea147df"
      },
      "source": [
        "list1= [34,32,23,11,90,4,12,55,77]\n",
        "\n",
        "list2=['Arjun']* 4\n",
        "print(list2)\n",
        "\n",
        "print(list1)\n",
        "print(list1[1:4])\n",
        "\n",
        "print(list1+list2)"
      ],
      "execution_count": 50,
      "outputs": [
        {
          "output_type": "stream",
          "text": [
            "['Arjun', 'Arjun', 'Arjun', 'Arjun']\n",
            "[34, 32, 23, 11, 90, 4, 12, 55, 77]\n",
            "[32, 23, 11]\n",
            "[34, 32, 23, 11, 90, 4, 12, 55, 77, 'Arjun', 'Arjun', 'Arjun', 'Arjun']\n"
          ],
          "name": "stdout"
        }
      ]
    },
    {
      "cell_type": "code",
      "metadata": {
        "id": "d7vC5jxfgQKi",
        "colab_type": "code",
        "colab": {
          "base_uri": "https://localhost:8080/",
          "height": 85
        },
        "outputId": "ef21b603-e6b7-44d4-c298-d12a987252ca"
      },
      "source": [
        "tup1= ('Python','Java','Ruby','C#','Cobol','Perl')\n",
        "print(tup1)\n",
        "print(tup1[1:5])\n",
        "tup2=(\"arjun\",)*3\n",
        "print(tup2)\n",
        "print(tup1+tup2)\n"
      ],
      "execution_count": 60,
      "outputs": [
        {
          "output_type": "stream",
          "text": [
            "('Python', 'Java', 'Ruby', 'C#', 'Cobol', 'Perl')\n",
            "('Java', 'Ruby', 'C#', 'Cobol')\n",
            "('arjun', 'arjun', 'arjun')\n",
            "('Python', 'Java', 'Ruby', 'C#', 'Cobol', 'Perl', 'arjun', 'arjun', 'arjun')\n"
          ],
          "name": "stdout"
        }
      ]
    }
  ]
}